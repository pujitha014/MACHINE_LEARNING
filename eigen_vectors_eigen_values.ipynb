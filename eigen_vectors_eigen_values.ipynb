{
  "nbformat": 4,
  "nbformat_minor": 0,
  "metadata": {
    "colab": {
      "provenance": []
    },
    "kernelspec": {
      "name": "python3",
      "display_name": "Python 3"
    },
    "language_info": {
      "name": "python"
    }
  },
  "cells": [
    {
      "cell_type": "code",
      "execution_count": null,
      "metadata": {
        "id": "T_Wb3TRjXx-2"
      },
      "outputs": [],
      "source": [
        "import numpy as np\n",
        "import pandas as pd\n"
      ]
    },
    {
      "cell_type": "code",
      "source": [
        "data=[(2, 1), (3, 4), (5, 0), (7, 6), (9, 2)]\n"
      ],
      "metadata": {
        "id": "BGlcvlE3YWZK"
      },
      "execution_count": null,
      "outputs": []
    },
    {
      "cell_type": "code",
      "source": [
        "import pandas as pd\n",
        "\n",
        "\n",
        "data = [(2,1),(3,4),(5,0),(7,6),(9,2)]\n",
        "\n",
        "data_frame = pd.DataFrame(data)\n",
        "\n",
        "data_frame.columns = ['Column_1', 'Column_2']\n",
        "\n",
        "\n",
        "print(data_frame)\n",
        "column_means = data_frame.mean()\n",
        "column_std = data_frame.std()\n",
        "\n",
        "print(\"\\nMean for each column:\")\n",
        "print(column_means)\n",
        "\n",
        "print(\"\\nStandard deviation for each column:\")\n",
        "print(column_std)\n",
        "\n",
        "deviations_matrix = data_frame.subtract(column_means)\n",
        "print(deviations_matrix)\n"
      ],
      "metadata": {
        "colab": {
          "base_uri": "https://localhost:8080/"
        },
        "id": "dawXF8Z3Yn7M",
        "outputId": "694ffa64-1d11-40a8-b1d2-9def2282ae41"
      },
      "execution_count": null,
      "outputs": [
        {
          "output_type": "stream",
          "name": "stdout",
          "text": [
            "   Column_1  Column_2\n",
            "0         2         1\n",
            "1         3         4\n",
            "2         5         0\n",
            "3         7         6\n",
            "4         9         2\n",
            "\n",
            "Mean for each column:\n",
            "Column_1    5.2\n",
            "Column_2    2.6\n",
            "dtype: float64\n",
            "\n",
            "Standard deviation for each column:\n",
            "Column_1    2.863564\n",
            "Column_2    2.408319\n",
            "dtype: float64\n",
            "   Column_1  Column_2\n",
            "0      -3.2      -1.6\n",
            "1      -2.2       1.4\n",
            "2      -0.2      -2.6\n",
            "3       1.8       3.4\n",
            "4       3.8      -0.6\n"
          ]
        }
      ]
    },
    {
      "cell_type": "code",
      "source": [
        "cov_matrix = np.cov(data, rowvar=False)\n",
        "\n",
        "print(\"Covariance Matrix:\")\n",
        "print(cov_matrix)"
      ],
      "metadata": {
        "colab": {
          "base_uri": "https://localhost:8080/"
        },
        "id": "plaOn9hrZG8Z",
        "outputId": "0fac3ebd-1d08-4289-cf60-6ba577646501"
      },
      "execution_count": null,
      "outputs": [
        {
          "output_type": "stream",
          "name": "stdout",
          "text": [
            "Covariance Matrix:\n",
            "[[8.2 1.6]\n",
            " [1.6 5.8]]\n"
          ]
        }
      ]
    },
    {
      "cell_type": "code",
      "source": [
        "eigenvalues,eigenvector=np.linalg.eig(cov_matrix)\n",
        "print(\"Eigen values\\n\")\n",
        "print(eigenvalues)\n",
        "print(\"Eigen vectors\\n\")\n",
        "print(eigenvector)\n"
      ],
      "metadata": {
        "colab": {
          "base_uri": "https://localhost:8080/"
        },
        "id": "zI-Df9lhczC0",
        "outputId": "9b92c7d3-5bb6-48ed-ce2f-8e10bc5cc698"
      },
      "execution_count": null,
      "outputs": [
        {
          "output_type": "stream",
          "name": "stdout",
          "text": [
            "Eigen values\n",
            "\n",
            "[9. 5.]\n",
            "Eigen vectors\n",
            "\n",
            "[[ 0.89442719 -0.4472136 ]\n",
            " [ 0.4472136   0.89442719]]\n"
          ]
        }
      ]
    },
    {
      "cell_type": "code",
      "source": [
        "eigenvalues, eigenvectors = np.linalg.eig(cov_matrix)\n",
        "\n",
        "print(\"Eigenvalues:\")\n",
        "print(eigenvalues)\n",
        "\n",
        "print(\"\\nEigenvectors:\")\n",
        "print(eigenvectors)"
      ],
      "metadata": {
        "colab": {
          "base_uri": "https://localhost:8080/"
        },
        "id": "40Lzf0vFdfKP",
        "outputId": "0e9dab7a-26a1-4b79-cf11-df12442dad7c"
      },
      "execution_count": null,
      "outputs": [
        {
          "output_type": "stream",
          "name": "stdout",
          "text": [
            "Eigenvalues:\n",
            "[9. 5.]\n",
            "\n",
            "Eigenvectors:\n",
            "[[ 0.89442719 -0.4472136 ]\n",
            " [ 0.4472136   0.89442719]]\n"
          ]
        }
      ]
    },
    {
      "cell_type": "code",
      "source": [
        "sorted_indices = np.argsort(np.abs(eigenvalues))[::-1]\n",
        "sorted_eigenvalues = eigenvalues[sorted_indices]\n",
        "sorted_eigenvectors = eigenvectors[:, sorted_indices]\n",
        "\n",
        "print(\"Sorted Eigenvalues:\")\n",
        "print(sorted_eigenvalues)\n",
        "\n",
        "print(\"\\nSorted Eigenvectors:\")\n",
        "print(sorted_eigenvectors)"
      ],
      "metadata": {
        "colab": {
          "base_uri": "https://localhost:8080/"
        },
        "id": "F9GmcdD_kWC6",
        "outputId": "31a4e082-f8b4-4468-9f3a-d104cbe50cd4"
      },
      "execution_count": null,
      "outputs": [
        {
          "output_type": "stream",
          "name": "stdout",
          "text": [
            "Sorted Eigenvalues:\n",
            "[9. 5.]\n",
            "\n",
            "Sorted Eigenvectors:\n",
            "[[ 0.89442719 -0.4472136 ]\n",
            " [ 0.4472136   0.89442719]]\n"
          ]
        }
      ]
    },
    {
      "cell_type": "code",
      "source": [
        "k = 1\n",
        "selected_eigenvectors = sorted_eigenvectors[:, :k]\n",
        "\n",
        "print(\"Selected Eigenvectors:\")\n",
        "print(selected_eigenvectors)"
      ],
      "metadata": {
        "colab": {
          "base_uri": "https://localhost:8080/"
        },
        "id": "qOdzGnfEkcBy",
        "outputId": "557fa525-5fbc-4415-8b22-583655814a63"
      },
      "execution_count": null,
      "outputs": [
        {
          "output_type": "stream",
          "name": "stdout",
          "text": [
            "Selected Eigenvectors:\n",
            "[[0.89442719]\n",
            " [0.4472136 ]]\n"
          ]
        }
      ]
    },
    {
      "cell_type": "code",
      "source": [
        "projected_data = np.dot(deviations_matrix, eigenvectors)\n",
        "\n",
        "print(\"Projected Data Points:\")\n",
        "print(projected_data)"
      ],
      "metadata": {
        "colab": {
          "base_uri": "https://localhost:8080/"
        },
        "id": "WWPY_9ZjkfvU",
        "outputId": "0e28dfdd-44a5-4239-dc13-0911a07a8434"
      },
      "execution_count": null,
      "outputs": [
        {
          "output_type": "stream",
          "name": "stdout",
          "text": [
            "Projected Data Points:\n",
            "[[-3.57770876e+00 -2.57076777e-16]\n",
            " [-1.34164079e+00  2.23606798e+00]\n",
            " [-1.34164079e+00 -2.23606798e+00]\n",
            " [ 3.13049517e+00  2.23606798e+00]\n",
            " [ 3.13049517e+00 -2.23606798e+00]]\n"
          ]
        }
      ]
    },
    {
      "cell_type": "code",
      "source": [
        "projected_data = np.dot(deviations_matrix, eigenvectors)\n",
        "\n",
        "print(\"Projected Data Points:\")\n",
        "print(projected_data)"
      ],
      "metadata": {
        "colab": {
          "base_uri": "https://localhost:8080/"
        },
        "id": "UYjg36XDkpiu",
        "outputId": "927df077-d3e3-415a-a28e-7ecb762eec0d"
      },
      "execution_count": null,
      "outputs": [
        {
          "output_type": "stream",
          "name": "stdout",
          "text": [
            "Projected Data Points:\n",
            "[[-3.57770876e+00 -2.57076777e-16]\n",
            " [-1.34164079e+00  2.23606798e+00]\n",
            " [-1.34164079e+00 -2.23606798e+00]\n",
            " [ 3.13049517e+00  2.23606798e+00]\n",
            " [ 3.13049517e+00 -2.23606798e+00]]\n"
          ]
        }
      ]
    }
  ]
}