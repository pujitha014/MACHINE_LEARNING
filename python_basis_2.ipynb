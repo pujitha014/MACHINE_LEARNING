{
  "nbformat": 4,
  "nbformat_minor": 0,
  "metadata": {
    "colab": {
      "provenance": []
    },
    "kernelspec": {
      "name": "python3",
      "display_name": "Python 3"
    },
    "language_info": {
      "name": "python"
    }
  },
  "cells": [
    {
      "cell_type": "markdown",
      "source": [
        "# **KAMISETTY PUJITHA**"
      ],
      "metadata": {
        "id": "HtYOpcfdnE8v"
      }
    },
    {
      "cell_type": "markdown",
      "source": [
        "# **AP21110010909**"
      ],
      "metadata": {
        "id": "sszVKtMEmj0s"
      }
    },
    {
      "cell_type": "markdown",
      "source": [
        "# **CSE-N**"
      ],
      "metadata": {
        "id": "pOjJhE40mleY"
      }
    },
    {
      "cell_type": "markdown",
      "source": [
        "Write a Python program to print the following string in a specific format (see\n",
        "the output)."
      ],
      "metadata": {
        "id": "Xg3TQqPflhaY"
      }
    },
    {
      "cell_type": "code",
      "execution_count": null,
      "metadata": {
        "colab": {
          "base_uri": "https://localhost:8080/"
        },
        "id": "19atb_ToBBYL",
        "outputId": "3bd90cb0-cb93-45e0-992f-4c9d69c166ac"
      },
      "outputs": [
        {
          "output_type": "stream",
          "name": "stdout",
          "text": [
            "Twinkle, twinkle, little star,\n",
            "                How I wonder what you are!\n",
            "                      Up above the world so high,\n",
            "                      Like a diamond in the sky.\n",
            "Twinkle, twinkle, little star,\n",
            "How I wonder what you are\n"
          ]
        }
      ],
      "source": [
        "print('''Twinkle, twinkle, little star,\n",
        "                How I wonder what you are!\n",
        "                      Up above the world so high,\n",
        "                      Like a diamond in the sky.\n",
        "Twinkle, twinkle, little star,\n",
        "How I wonder what you are''')"
      ]
    },
    {
      "cell_type": "markdown",
      "source": [
        "2)Write a Python program to find out what version of Python you are using.\n"
      ],
      "metadata": {
        "id": "l2ODfCmdc8xR"
      }
    },
    {
      "cell_type": "code",
      "source": [
        "import sys\n",
        "print(\"Python Version:\", sys.version)\n"
      ],
      "metadata": {
        "id": "pF__NahJBKVu",
        "colab": {
          "base_uri": "https://localhost:8080/"
        },
        "outputId": "b560457a-387d-4ce1-f3c2-dc22dd871598"
      },
      "execution_count": null,
      "outputs": [
        {
          "output_type": "stream",
          "name": "stdout",
          "text": [
            "Python Version: 3.10.12 (main, Nov 20 2023, 15:14:05) [GCC 11.4.0]\n"
          ]
        }
      ]
    },
    {
      "cell_type": "markdown",
      "source": [
        "3. Write a Python program to display the current date and time."
      ],
      "metadata": {
        "id": "6e489UCUc_Qz"
      }
    },
    {
      "cell_type": "code",
      "source": [
        "import time\n",
        "current_time = time.ctime()\n",
        "print(\"Current Date and Time:\", current_time)\n"
      ],
      "metadata": {
        "colab": {
          "base_uri": "https://localhost:8080/"
        },
        "id": "Hko_JwFndXHt",
        "outputId": "a59c8ee7-f7c6-4200-8f32-388a4cea3770"
      },
      "execution_count": null,
      "outputs": [
        {
          "output_type": "stream",
          "name": "stdout",
          "text": [
            "Current Date and Time: Thu Feb  1 16:18:09 2024\n"
          ]
        }
      ]
    },
    {
      "cell_type": "markdown",
      "source": [
        "4. Write a Python program that calculates the area of a circle based on the radius entered by the user."
      ],
      "metadata": {
        "id": "3UtwwSc-dtU6"
      }
    },
    {
      "cell_type": "code",
      "source": [
        "\n",
        "radius=float(input())\n",
        "area=3.14*radius*radius\n",
        "print(area)"
      ],
      "metadata": {
        "colab": {
          "base_uri": "https://localhost:8080/"
        },
        "id": "TzoUlwnWB08z",
        "outputId": "14c9f880-7377-4297-85d2-c358d7574f90"
      },
      "execution_count": null,
      "outputs": [
        {
          "output_type": "stream",
          "name": "stdout",
          "text": [
            "12.0\n",
            "452.15999999999997\n"
          ]
        }
      ]
    },
    {
      "cell_type": "markdown",
      "source": [
        "Write a Python program that accepts the user's first and last name and prints\n",
        "them in reverse order with a space between them."
      ],
      "metadata": {
        "id": "IMFDrCswdx1y"
      }
    },
    {
      "cell_type": "code",
      "source": [
        "first_name=input()\n",
        "last_name=input()\n",
        "print(last_name+\" \"+first_name)\n",
        "\n"
      ],
      "metadata": {
        "colab": {
          "base_uri": "https://localhost:8080/"
        },
        "id": "aH-7CXGHCo_W",
        "outputId": "50a7fea3-533b-43b3-92ab-7aa6cd1c10d1"
      },
      "execution_count": null,
      "outputs": [
        {
          "output_type": "stream",
          "name": "stdout",
          "text": [
            "pujitha\n",
            "kamisetty\n",
            "kamisetty pujitha\n"
          ]
        }
      ]
    },
    {
      "cell_type": "markdown",
      "source": [
        "Write a Python program that accepts a sequence of comma-separated\n",
        "numbers from the user and generates a list and a tuple of those numbersSample"
      ],
      "metadata": {
        "id": "gzZVnHDXeCxP"
      }
    },
    {
      "cell_type": "code",
      "source": [
        "x=input()\n",
        "list_1=x.split(\",\")\n",
        "tuple_1=tuple(list_1)\n",
        "print(\"list:\",list_1)\n",
        "print(\"Tuple:\",tuple_1)\n"
      ],
      "metadata": {
        "colab": {
          "base_uri": "https://localhost:8080/"
        },
        "id": "ICg-gaQSEZzO",
        "outputId": "30d343f8-b5d6-43f4-c33d-49ad875986a2"
      },
      "execution_count": null,
      "outputs": [
        {
          "output_type": "stream",
          "name": "stdout",
          "text": [
            "1,2,3,4\n",
            "list: ['1', '2', '3', '4']\n",
            "Tuple: ('1', '2', '3', '4')\n"
          ]
        }
      ]
    },
    {
      "cell_type": "markdown",
      "source": [
        "Write a Python program that accepts a filename from the user and prints the\n",
        "extension of the file."
      ],
      "metadata": {
        "id": "3e4kR_LZeJ5U"
      }
    },
    {
      "cell_type": "code",
      "source": [
        "import os\n",
        "filename = input(\"Enter a filename: \")\n",
        "file_extension = os.path.splitext(filename)[1]\n",
        "print(\"File Extension:\", file_extension)\n"
      ],
      "metadata": {
        "colab": {
          "base_uri": "https://localhost:8080/"
        },
        "id": "8ffvNvVHeIa1",
        "outputId": "95bead70-121a-4046-eaa5-1e641ceaa24e"
      },
      "execution_count": null,
      "outputs": [
        {
          "output_type": "stream",
          "name": "stdout",
          "text": [
            "Enter a filename: LAB-1.ipynb\n",
            "File Extension: .ipynb\n"
          ]
        }
      ]
    },
    {
      "cell_type": "markdown",
      "source": [
        "Write a Python program to display the first and last colors from the following\n",
        "list."
      ],
      "metadata": {
        "id": "EOJOW69WeMk5"
      }
    },
    {
      "cell_type": "code",
      "source": [
        "color_list = [\"Red\",\"Green\",\"White\" ,\"Black\"]\n",
        "print(color_list[0::3])"
      ],
      "metadata": {
        "id": "WuDnrGG3F2kN",
        "colab": {
          "base_uri": "https://localhost:8080/"
        },
        "outputId": "98f23324-dba6-4306-ea81-6af058ca4aa5"
      },
      "execution_count": null,
      "outputs": [
        {
          "output_type": "stream",
          "name": "stdout",
          "text": [
            "['Red', 'Black']\n"
          ]
        }
      ]
    },
    {
      "cell_type": "markdown",
      "source": [
        "Write a Python program to display the examination schedule. (extract the date\n",
        "from exam_st_date)."
      ],
      "metadata": {
        "id": "4yxwc-BqeaEj"
      }
    },
    {
      "cell_type": "code",
      "source": [
        "exam_st_date = (11, 12, 2014)\n",
        "print(f\"The examination will start from : {exam_st_date[0]} / {exam_st_date[1]} / {exam_st_date[2]}\")"
      ],
      "metadata": {
        "colab": {
          "base_uri": "https://localhost:8080/"
        },
        "id": "59WFFUOwGwBm",
        "outputId": "d1b1aeae-1f27-4b05-fac8-9661d44cab72"
      },
      "execution_count": null,
      "outputs": [
        {
          "output_type": "stream",
          "name": "stdout",
          "text": [
            "The examination will start from : 11 / 12 / 2014\n"
          ]
        }
      ]
    },
    {
      "cell_type": "markdown",
      "source": [
        "10. Write a Python program that accepts an integer (n) and computes the value\n",
        "of n+nn+nnn."
      ],
      "metadata": {
        "id": "8or506wzeg1J"
      }
    },
    {
      "cell_type": "code",
      "source": [
        "n = int(input(\"Enter an integer: \"))\n",
        "result = n + int(str(n) + str(n)) + int(str(n) + str(n) + str(n))\n",
        "print(\"The result is:\", result)"
      ],
      "metadata": {
        "colab": {
          "base_uri": "https://localhost:8080/"
        },
        "id": "903vsax5HxQk",
        "outputId": "f7266621-42ad-4aad-c7fa-c02a8a28d487"
      },
      "execution_count": null,
      "outputs": [
        {
          "output_type": "stream",
          "name": "stdout",
          "text": [
            "Enter an integer: 5\n",
            "The result is: 615\n"
          ]
        }
      ]
    },
    {
      "cell_type": "markdown",
      "source": [
        "Write a Python function that takes a sequence of numbers and determines\n",
        "whether all the numbers are different from each other."
      ],
      "metadata": {
        "id": "0v-47oxae4Vr"
      }
    },
    {
      "cell_type": "code",
      "source": [
        "def are_all_numbers_unique(sequence):\n",
        "    return len(sequence) == len(set(sequence))\n",
        "\n",
        "numbers1 = [1, 2, 3, 4, 5]\n",
        "numbers2 = [1, 2, 3, 4, 2]\n",
        "\n",
        "print(are_all_numbers_unique(numbers1))\n",
        "print(are_all_numbers_unique(numbers2))\n"
      ],
      "metadata": {
        "colab": {
          "base_uri": "https://localhost:8080/"
        },
        "id": "WyYm25xbI0rq",
        "outputId": "0e554a46-c686-43bd-cfea-dc6cf13fcb90"
      },
      "execution_count": null,
      "outputs": [
        {
          "output_type": "stream",
          "name": "stdout",
          "text": [
            "True\n",
            "False\n"
          ]
        }
      ]
    },
    {
      "cell_type": "markdown",
      "source": [
        "Write a Python program that creates all possible strings using the letters 'a',\n",
        "'e', 'i', 'o', and 'I'. Ensure that each character is used only once."
      ],
      "metadata": {
        "id": "8beaGugmfB3Y"
      }
    },
    {
      "cell_type": "code",
      "source": [
        "from itertools import permutations\n",
        "\n",
        "def generate_strings():\n",
        "    letters = ['a', 'e', 'i', 'o', 'I']\n",
        "    all_permutations = permutations(letters)\n",
        "    for perm in all_permutations:\n",
        "        string = ''.join(perm)\n",
        "        print(string)\n",
        "generate_strings()\n"
      ],
      "metadata": {
        "colab": {
          "base_uri": "https://localhost:8080/"
        },
        "id": "uwdiDW-lfD4s",
        "outputId": "c126ec6d-bdc5-4290-d643-15f0a8f37483"
      },
      "execution_count": null,
      "outputs": [
        {
          "output_type": "stream",
          "name": "stdout",
          "text": [
            "aeioI\n",
            "aeiIo\n",
            "aeoiI\n",
            "aeoIi\n",
            "aeIio\n",
            "aeIoi\n",
            "aieoI\n",
            "aieIo\n",
            "aioeI\n",
            "aioIe\n",
            "aiIeo\n",
            "aiIoe\n",
            "aoeiI\n",
            "aoeIi\n",
            "aoieI\n",
            "aoiIe\n",
            "aoIei\n",
            "aoIie\n",
            "aIeio\n",
            "aIeoi\n",
            "aIieo\n",
            "aIioe\n",
            "aIoei\n",
            "aIoie\n",
            "eaioI\n",
            "eaiIo\n",
            "eaoiI\n",
            "eaoIi\n",
            "eaIio\n",
            "eaIoi\n",
            "eiaoI\n",
            "eiaIo\n",
            "eioaI\n",
            "eioIa\n",
            "eiIao\n",
            "eiIoa\n",
            "eoaiI\n",
            "eoaIi\n",
            "eoiaI\n",
            "eoiIa\n",
            "eoIai\n",
            "eoIia\n",
            "eIaio\n",
            "eIaoi\n",
            "eIiao\n",
            "eIioa\n",
            "eIoai\n",
            "eIoia\n",
            "iaeoI\n",
            "iaeIo\n",
            "iaoeI\n",
            "iaoIe\n",
            "iaIeo\n",
            "iaIoe\n",
            "ieaoI\n",
            "ieaIo\n",
            "ieoaI\n",
            "ieoIa\n",
            "ieIao\n",
            "ieIoa\n",
            "ioaeI\n",
            "ioaIe\n",
            "ioeaI\n",
            "ioeIa\n",
            "ioIae\n",
            "ioIea\n",
            "iIaeo\n",
            "iIaoe\n",
            "iIeao\n",
            "iIeoa\n",
            "iIoae\n",
            "iIoea\n",
            "oaeiI\n",
            "oaeIi\n",
            "oaieI\n",
            "oaiIe\n",
            "oaIei\n",
            "oaIie\n",
            "oeaiI\n",
            "oeaIi\n",
            "oeiaI\n",
            "oeiIa\n",
            "oeIai\n",
            "oeIia\n",
            "oiaeI\n",
            "oiaIe\n",
            "oieaI\n",
            "oieIa\n",
            "oiIae\n",
            "oiIea\n",
            "oIaei\n",
            "oIaie\n",
            "oIeai\n",
            "oIeia\n",
            "oIiae\n",
            "oIiea\n",
            "Iaeio\n",
            "Iaeoi\n",
            "Iaieo\n",
            "Iaioe\n",
            "Iaoei\n",
            "Iaoie\n",
            "Ieaio\n",
            "Ieaoi\n",
            "Ieiao\n",
            "Ieioa\n",
            "Ieoai\n",
            "Ieoia\n",
            "Iiaeo\n",
            "Iiaoe\n",
            "Iieao\n",
            "Iieoa\n",
            "Iioae\n",
            "Iioea\n",
            "Ioaei\n",
            "Ioaie\n",
            "Ioeai\n",
            "Ioeia\n",
            "Ioiae\n",
            "Ioiea\n"
          ]
        }
      ]
    },
    {
      "cell_type": "markdown",
      "source": [
        "Write a Python program that removes and prints every third number from a\n",
        "list of numbers until the list is empty."
      ],
      "metadata": {
        "id": "r6v8ZaiEfGtq"
      }
    },
    {
      "cell_type": "code",
      "source": [
        "def remove_every_third_element(lst):\n",
        "    index = 2\n",
        "    while len(lst) > 0:\n",
        "        index = index % len(lst)\n",
        "        # print(index)\n",
        "\n",
        "        print(lst.pop(index))\n",
        "        index += 2\n",
        "\n",
        "\n",
        "\n",
        "nums = [10, 20, 30, 40, 50, 60, 70, 80, 90]\n",
        "\n",
        "remove_every_third_element(nums)"
      ],
      "metadata": {
        "colab": {
          "base_uri": "https://localhost:8080/"
        },
        "id": "iEr1vd2iIT7-",
        "outputId": "aa419514-9351-48c6-f42e-00c5bd6d8e92"
      },
      "execution_count": null,
      "outputs": [
        {
          "output_type": "stream",
          "name": "stdout",
          "text": [
            "30\n",
            "60\n",
            "90\n",
            "40\n",
            "80\n",
            "50\n",
            "20\n",
            "70\n",
            "10\n"
          ]
        }
      ]
    },
    {
      "cell_type": "markdown",
      "source": [
        "Write a Python program to identify unique triplets whose three elements sum\n",
        "to zero from an array of n integers."
      ],
      "metadata": {
        "id": "qgYPq9Lkflcq"
      }
    },
    {
      "cell_type": "code",
      "source": [
        "def find_zero_sum_triplets(nums):\n",
        "    triplets = []\n",
        "    nums.sort()\n",
        "\n",
        "    for i in range(len(nums) - 2):\n",
        "        if i > 0 and nums[i] == nums[i - 1]:\n",
        "            continue\n",
        "\n",
        "        left, right = i + 1, len(nums) - 1\n",
        "\n",
        "        while left < right:\n",
        "            total_sum = nums[i] + nums[left] + nums[right]\n",
        "\n",
        "            if total_sum == 0:\n",
        "                triplets.append([nums[i], nums[left], nums[right]])\n",
        "\n",
        "\n",
        "                while left < right and nums[left] == nums[left + 1]:\n",
        "                    left += 1\n",
        "                while left < right and nums[right] == nums[right - 1]:\n",
        "                    right -= 1\n",
        "\n",
        "                left += 1\n",
        "                right -= 1\n",
        "            elif total_sum < 0:\n",
        "                left += 1\n",
        "            else:\n",
        "                right -= 1\n",
        "\n",
        "    return triplets\n",
        "\n",
        "nums = [-1, 0, 1, 2, -1, -4]\n",
        "result = find_zero_sum_triplets(nums)\n",
        "print(\"Unique triplets with zero sum:\", result)\n"
      ],
      "metadata": {
        "colab": {
          "base_uri": "https://localhost:8080/"
        },
        "id": "cv5TV_gSKjVw",
        "outputId": "1550f6d3-caf3-41bf-8576-1747beb4fa3a"
      },
      "execution_count": null,
      "outputs": [
        {
          "output_type": "stream",
          "name": "stdout",
          "text": [
            "Unique triplets with zero sum: [[-1, -1, 2], [-1, 0, 1]]\n"
          ]
        }
      ]
    },
    {
      "cell_type": "markdown",
      "source": [
        "Write a Python program to make combinations of 3 digits."
      ],
      "metadata": {
        "id": "YnKVt1XkgGWc"
      }
    },
    {
      "cell_type": "code",
      "source": [
        "from itertools import combinations\n",
        "\n",
        "def generate_digit_combinations():\n",
        "    digits = [0, 1, 2, 3, 4, 5, 6, 7, 8, 9]\n",
        "    digit_combinations = combinations(digits, 3)\n",
        "\n",
        "    for combination in digit_combinations:\n",
        "        print(combination)\n",
        "\n",
        "generate_digit_combinations()\n"
      ],
      "metadata": {
        "colab": {
          "base_uri": "https://localhost:8080/"
        },
        "id": "AgTxPvpuNIcR",
        "outputId": "6101179d-932c-42c6-ef51-7c08989b7992"
      },
      "execution_count": null,
      "outputs": [
        {
          "output_type": "stream",
          "name": "stdout",
          "text": [
            "(0, 1, 2)\n",
            "(0, 1, 3)\n",
            "(0, 1, 4)\n",
            "(0, 1, 5)\n",
            "(0, 1, 6)\n",
            "(0, 1, 7)\n",
            "(0, 1, 8)\n",
            "(0, 1, 9)\n",
            "(0, 2, 3)\n",
            "(0, 2, 4)\n",
            "(0, 2, 5)\n",
            "(0, 2, 6)\n",
            "(0, 2, 7)\n",
            "(0, 2, 8)\n",
            "(0, 2, 9)\n",
            "(0, 3, 4)\n",
            "(0, 3, 5)\n",
            "(0, 3, 6)\n",
            "(0, 3, 7)\n",
            "(0, 3, 8)\n",
            "(0, 3, 9)\n",
            "(0, 4, 5)\n",
            "(0, 4, 6)\n",
            "(0, 4, 7)\n",
            "(0, 4, 8)\n",
            "(0, 4, 9)\n",
            "(0, 5, 6)\n",
            "(0, 5, 7)\n",
            "(0, 5, 8)\n",
            "(0, 5, 9)\n",
            "(0, 6, 7)\n",
            "(0, 6, 8)\n",
            "(0, 6, 9)\n",
            "(0, 7, 8)\n",
            "(0, 7, 9)\n",
            "(0, 8, 9)\n",
            "(1, 2, 3)\n",
            "(1, 2, 4)\n",
            "(1, 2, 5)\n",
            "(1, 2, 6)\n",
            "(1, 2, 7)\n",
            "(1, 2, 8)\n",
            "(1, 2, 9)\n",
            "(1, 3, 4)\n",
            "(1, 3, 5)\n",
            "(1, 3, 6)\n",
            "(1, 3, 7)\n",
            "(1, 3, 8)\n",
            "(1, 3, 9)\n",
            "(1, 4, 5)\n",
            "(1, 4, 6)\n",
            "(1, 4, 7)\n",
            "(1, 4, 8)\n",
            "(1, 4, 9)\n",
            "(1, 5, 6)\n",
            "(1, 5, 7)\n",
            "(1, 5, 8)\n",
            "(1, 5, 9)\n",
            "(1, 6, 7)\n",
            "(1, 6, 8)\n",
            "(1, 6, 9)\n",
            "(1, 7, 8)\n",
            "(1, 7, 9)\n",
            "(1, 8, 9)\n",
            "(2, 3, 4)\n",
            "(2, 3, 5)\n",
            "(2, 3, 6)\n",
            "(2, 3, 7)\n",
            "(2, 3, 8)\n",
            "(2, 3, 9)\n",
            "(2, 4, 5)\n",
            "(2, 4, 6)\n",
            "(2, 4, 7)\n",
            "(2, 4, 8)\n",
            "(2, 4, 9)\n",
            "(2, 5, 6)\n",
            "(2, 5, 7)\n",
            "(2, 5, 8)\n",
            "(2, 5, 9)\n",
            "(2, 6, 7)\n",
            "(2, 6, 8)\n",
            "(2, 6, 9)\n",
            "(2, 7, 8)\n",
            "(2, 7, 9)\n",
            "(2, 8, 9)\n",
            "(3, 4, 5)\n",
            "(3, 4, 6)\n",
            "(3, 4, 7)\n",
            "(3, 4, 8)\n",
            "(3, 4, 9)\n",
            "(3, 5, 6)\n",
            "(3, 5, 7)\n",
            "(3, 5, 8)\n",
            "(3, 5, 9)\n",
            "(3, 6, 7)\n",
            "(3, 6, 8)\n",
            "(3, 6, 9)\n",
            "(3, 7, 8)\n",
            "(3, 7, 9)\n",
            "(3, 8, 9)\n",
            "(4, 5, 6)\n",
            "(4, 5, 7)\n",
            "(4, 5, 8)\n",
            "(4, 5, 9)\n",
            "(4, 6, 7)\n",
            "(4, 6, 8)\n",
            "(4, 6, 9)\n",
            "(4, 7, 8)\n",
            "(4, 7, 9)\n",
            "(4, 8, 9)\n",
            "(5, 6, 7)\n",
            "(5, 6, 8)\n",
            "(5, 6, 9)\n",
            "(5, 7, 8)\n",
            "(5, 7, 9)\n",
            "(5, 8, 9)\n",
            "(6, 7, 8)\n",
            "(6, 7, 9)\n",
            "(6, 8, 9)\n",
            "(7, 8, 9)\n"
          ]
        }
      ]
    },
    {
      "cell_type": "markdown",
      "source": [
        "Write a Python program that prints long text, converts it to a list, and prints all\n",
        "the words and the frequency of each word."
      ],
      "metadata": {
        "id": "iaDNo_CmgK0K"
      }
    },
    {
      "cell_type": "code",
      "source": [
        "def word_frequency(text):\n",
        "\n",
        "    words = text.lower().split()\n",
        "\n",
        "    word_freq = {}\n",
        "\n",
        "    for word in words:\n",
        "\n",
        "        word = word.strip('.,!?()[]{}\"\\'')\n",
        "        word_freq[word] = word_freq.get(word, 0) + 1\n",
        "\n",
        "    return word_freq\n",
        "\n",
        "long_text = \"\"\"\n",
        "Lorem ipsum dolor sit amet, consectetur adipiscing elit. Nullam vitae mauris quis magna commodo feugiat. Integer in dui non elit fringilla venenatis. Fusce bibendum accumsan purus, nec laoreet nisi tristique at. Duis tristique est nec eros cursus, ac aliquam purus dictum. Etiam aliquet odio vel facilisis aliquet. Proin in diam et est fringilla scelerisque. Sed eget eros id felis fermentum consequat. Ut nec nulla in metus aliquet vulputate. Aliquam sagittis turpis nec lorem tempus hendrerit.\n",
        "\"\"\"\n",
        "\n",
        "print(\"Original Text:\")\n",
        "print(long_text)\n",
        "\n",
        "word_freq = word_frequency(long_text)\n",
        "\n",
        "print(\"\\nWord Frequency:\")\n",
        "for word, freq in word_freq.items():\n",
        "    print(f\"{word}: {freq}\")\n"
      ],
      "metadata": {
        "id": "atIVBQsiSVtV"
      },
      "execution_count": null,
      "outputs": []
    },
    {
      "cell_type": "markdown",
      "source": [
        "Write a Python program to count the number of each character in a text file."
      ],
      "metadata": {
        "id": "7Ge3UvIGgSLt"
      }
    },
    {
      "cell_type": "code",
      "source": [
        "def count_characters(file_path):\n",
        "\n",
        "    char_freq = {}\n",
        "\n",
        "    try:\n",
        "\n",
        "        with open(file_path, 'r') as file:\n",
        "\n",
        "            content = file.read()\n",
        "\n",
        "            for char in content:\n",
        "\n",
        "                char_freq[char] = char_freq.get(char, 0) + 1\n",
        "\n",
        "    except FileNotFoundError:\n",
        "        print(f\"File not found: {file_path}\")\n",
        "        return None\n",
        "\n",
        "    return char_freq\n",
        "\n",
        "file_path = 'example.txt'\n",
        "character_frequency = count_characters(file_path)\n",
        "\n",
        "if character_frequency:\n",
        "    print(\"Character Frequency:\")\n",
        "    for char, freq in character_frequency.items():\n",
        "        print(f\"{char}: {freq}\")\n"
      ],
      "metadata": {
        "colab": {
          "base_uri": "https://localhost:8080/"
        },
        "id": "GehTBazXgP8S",
        "outputId": "8a9495e6-446a-4a0f-d9dc-c2369bcf9f19"
      },
      "execution_count": null,
      "outputs": [
        {
          "output_type": "stream",
          "name": "stdout",
          "text": [
            "File not found: example.txt\n"
          ]
        }
      ]
    },
    {
      "cell_type": "markdown",
      "source": [
        "Write a Python program that retrieves the top stories from Google News."
      ],
      "metadata": {
        "id": "p7BkMafPk4_P"
      }
    },
    {
      "cell_type": "code",
      "source": [
        "import requests\n",
        "from bs4 import BeautifulSoup\n",
        "\n",
        "def get_top_stories():\n",
        "    rss_url = 'https://news.google.com/rss'\n",
        "\n",
        "    try:\n",
        "\n",
        "        response = requests.get(rss_url)\n",
        "        response.raise_for_status()\n",
        "\n",
        "\n",
        "        soup = BeautifulSoup(response.text, 'xml')\n",
        "\n",
        "\n",
        "        print(\"Top Stories from Google News:\")\n",
        "        for item in soup.find_all('item')[:5]:\n",
        "            title = item.title.text\n",
        "            link = item.link.text\n",
        "            print(f\"{title}\\n{link}\\n\")\n",
        "\n",
        "    except requests.exceptions.RequestException as e:\n",
        "        print(f\"Error: {e}\")\n",
        "\n",
        "if __name__ == \"__main__\":\n",
        "    get_top_stories()\n"
      ],
      "metadata": {
        "colab": {
          "base_uri": "https://localhost:8080/"
        },
        "id": "jG65P6aNgQKT",
        "outputId": "7735a761-d737-4753-fe97-5326b6612f68"
      },
      "execution_count": null,
      "outputs": [
        {
          "output_type": "stream",
          "name": "stdout",
          "text": [
            "Top Stories from Google News:\n",
            "E.U. approves $50 billion support package for Ukraine - The Washington Post\n",
            "https://news.google.com/rss/articles/CBMiUWh0dHBzOi8vd3d3Lndhc2hpbmd0b25wb3N0LmNvbS93b3JsZC8yMDI0LzAyLzAxL2V1LXVrcmFpbmUtYnJ1c3NlbHMtc3VtbWl0LW9yYmFuL9IBAA?oc=5\n",
            "\n",
            "An atmospheric river is drenching Southern California today before another sweeps in over the weekend - CNN\n",
            "https://news.google.com/rss/articles/CBMiZWh0dHBzOi8vd3d3LmNubi5jb20vMjAyNC8wMi8wMS93ZWF0aGVyL2NhbGlmb3JuaWEtcGluZWFwcGxlLWV4cHJlc3Mtc3Rvcm0tZmxvb2RpbmctY2xpbWF0ZS9pbmRleC5odG1s0gFpaHR0cHM6Ly9hbXAuY25uLmNvbS9jbm4vMjAyNC8wMi8wMS93ZWF0aGVyL2NhbGlmb3JuaWEtcGluZWFwcGxlLWV4cHJlc3Mtc3Rvcm0tZmxvb2RpbmctY2xpbWF0ZS9pbmRleC5odG1s?oc=5\n",
            "\n",
            "The 7 things you need to know for Thursday, February 1 - The Washington Post\n",
            "https://news.google.com/rss/articles/CBMiUGh0dHBzOi8vd3d3Lndhc2hpbmd0b25wb3N0LmNvbS90aGUtc2V2ZW4vMjAyNC8wMi8wMS93aGF0LXRvLWtub3ctZm9yLWZlYnJ1YXJ5LTEv0gEA?oc=5\n",
            "\n",
            "Fulton County DA Fani Willis subpoenaed over ethics violation accusations - Axios\n",
            "https://news.google.com/rss/articles/CBMiV2h0dHBzOi8vd3d3LmF4aW9zLmNvbS8yMDI0LzAxLzMxL2Zhbmktd2lsbGlzLW5hdGhhbi13YWRlLWdlb3JnaWEtc3VicG9lbmFlZC1hY2N1c2F0aW9uc9IBAA?oc=5\n",
            "\n",
            "3 people killed and 9 injured in hangar collapse on grounds of Boise, Idaho, airport - The Associated Press\n",
            "https://news.google.com/rss/articles/CBMiWWh0dHBzOi8vYXBuZXdzLmNvbS9hcnRpY2xlL2JvaXNlLWlkYWhvLWJ1aWxkaW5nLWNvbGxhcHNlLTJlNGM5MmMxZDM3YWZhMjUyNWQ2NTI0NDMwNzMwOTU30gEA?oc=5\n",
            "\n"
          ]
        }
      ]
    },
    {
      "cell_type": "markdown",
      "source": [
        "Write a Python program to get a list of locally installed Python modules."
      ],
      "metadata": {
        "id": "w5pjcOP8k7m5"
      }
    },
    {
      "cell_type": "code",
      "source": [
        "import pkgutil\n",
        "\n",
        "def get_installed_modules():\n",
        "    installed_modules = [module.name for module in pkgutil.iter_modules()]\n",
        "\n",
        "    return installed_modules\n",
        "\n",
        "installed_modules = get_installed_modules()\n",
        "print(\"Locally Installed Python Modules:\")\n",
        "for module in installed_modules:\n",
        "    print(module)\n"
      ],
      "metadata": {
        "colab": {
          "base_uri": "https://localhost:8080/"
        },
        "id": "Nt5tdvkZk3me",
        "outputId": "f88a9c43-eeda-48bb-fb6f-cc1a59427328"
      },
      "execution_count": null,
      "outputs": [
        {
          "output_type": "stream",
          "name": "stdout",
          "text": [
            "Locally Installed Python Modules:\n",
            "__future__\n",
            "_aix_support\n",
            "_bootsubprocess\n",
            "_collections_abc\n",
            "_compat_pickle\n",
            "_compression\n",
            "_distutils_system_mod\n",
            "_markupbase\n",
            "_osx_support\n",
            "_py_abc\n",
            "_pydecimal\n",
            "_pyio\n",
            "_sitebuiltins\n",
            "_strptime\n",
            "_sysconfigdata__linux_x86_64-linux-gnu\n",
            "_sysconfigdata__x86_64-linux-gnu\n",
            "_threading_local\n",
            "_weakrefset\n",
            "abc\n",
            "aifc\n",
            "antigravity\n",
            "argparse\n",
            "ast\n",
            "asynchat\n",
            "asyncio\n",
            "asyncore\n",
            "base64\n",
            "bdb\n",
            "binhex\n",
            "bisect\n",
            "bz2\n",
            "cProfile\n",
            "calendar\n",
            "cgi\n",
            "cgitb\n",
            "chunk\n",
            "cmd\n",
            "code\n",
            "codecs\n",
            "codeop\n",
            "collections\n",
            "colorsys\n",
            "compileall\n",
            "concurrent\n",
            "configparser\n",
            "contextlib\n",
            "contextvars\n",
            "copy\n",
            "copyreg\n",
            "crypt\n",
            "csv\n",
            "ctypes\n",
            "curses\n",
            "dataclasses\n",
            "datetime\n",
            "dbm\n",
            "decimal\n",
            "difflib\n",
            "dis\n",
            "distutils\n",
            "doctest\n",
            "email\n",
            "encodings\n",
            "enum\n",
            "filecmp\n",
            "fileinput\n",
            "fnmatch\n",
            "fractions\n",
            "ftplib\n",
            "functools\n",
            "genericpath\n",
            "getopt\n",
            "getpass\n",
            "gettext\n",
            "glob\n",
            "graphlib\n",
            "gzip\n",
            "hashlib\n",
            "heapq\n",
            "hmac\n",
            "html\n",
            "http\n",
            "imaplib\n",
            "imghdr\n",
            "imp\n",
            "importlib\n",
            "inspect\n",
            "io\n",
            "ipaddress\n",
            "json\n",
            "keyword\n",
            "lib2to3\n",
            "linecache\n",
            "locale\n",
            "logging\n",
            "lzma\n",
            "mailbox\n",
            "mailcap\n",
            "mimetypes\n",
            "modulefinder\n",
            "multiprocessing\n",
            "netrc\n",
            "nntplib\n",
            "ntpath\n",
            "nturl2path\n",
            "numbers\n",
            "opcode\n",
            "operator\n",
            "optparse\n",
            "os\n",
            "pathlib\n",
            "pdb\n",
            "pickle\n",
            "pickletools\n",
            "pipes\n",
            "pkgutil\n",
            "platform\n",
            "plistlib\n",
            "poplib\n",
            "posixpath\n",
            "pprint\n",
            "profile\n",
            "pstats\n",
            "pty\n",
            "py_compile\n",
            "pyclbr\n",
            "pydoc\n",
            "pydoc_data\n",
            "queue\n",
            "quopri\n",
            "random\n",
            "re\n",
            "reprlib\n",
            "rlcompleter\n",
            "runpy\n",
            "sched\n",
            "secrets\n",
            "selectors\n",
            "shelve\n",
            "shlex\n",
            "shutil\n",
            "signal\n",
            "site\n",
            "sitecustomize\n",
            "smtpd\n",
            "smtplib\n",
            "sndhdr\n",
            "socket\n",
            "socketserver\n",
            "sqlite3\n",
            "sre_compile\n",
            "sre_constants\n",
            "sre_parse\n",
            "ssl\n",
            "stat\n",
            "statistics\n",
            "string\n",
            "stringprep\n",
            "struct\n",
            "subprocess\n",
            "sunau\n",
            "symtable\n",
            "sysconfig\n",
            "tabnanny\n",
            "tarfile\n",
            "telnetlib\n",
            "tempfile\n",
            "test\n",
            "textwrap\n",
            "this\n",
            "threading\n",
            "timeit\n",
            "tkinter\n",
            "token\n",
            "tokenize\n",
            "trace\n",
            "traceback\n",
            "tracemalloc\n",
            "tty\n",
            "turtle\n",
            "types\n",
            "typing\n",
            "unittest\n",
            "urllib\n",
            "uu\n",
            "uuid\n",
            "venv\n",
            "warnings\n",
            "wave\n",
            "weakref\n",
            "webbrowser\n",
            "wsgiref\n",
            "xdrlib\n",
            "xml\n",
            "xmlrpc\n",
            "zipapp\n",
            "zipfile\n",
            "zipimport\n",
            "zoneinfo\n",
            "_asyncio\n",
            "_bz2\n",
            "_codecs_cn\n",
            "_codecs_hk\n",
            "_codecs_iso2022\n",
            "_codecs_jp\n",
            "_codecs_kr\n",
            "_codecs_tw\n",
            "_contextvars\n",
            "_crypt\n",
            "_ctypes\n",
            "_ctypes_test\n",
            "_curses\n",
            "_curses_panel\n",
            "_dbm\n",
            "_decimal\n",
            "_hashlib\n",
            "_json\n",
            "_lsprof\n",
            "_lzma\n",
            "_multibytecodec\n",
            "_multiprocessing\n",
            "_opcode\n",
            "_posixshmem\n",
            "_queue\n",
            "_sqlite3\n",
            "_ssl\n",
            "_testbuffer\n",
            "_testcapi\n",
            "_testclinic\n",
            "_testimportmultiple\n",
            "_testinternalcapi\n",
            "_testmultiphase\n",
            "_tkinter\n",
            "_uuid\n",
            "_xxsubinterpreters\n",
            "_xxtestfuzz\n",
            "_zoneinfo\n",
            "audioop\n",
            "mmap\n",
            "nis\n",
            "ossaudiodev\n",
            "readline\n",
            "resource\n",
            "termios\n",
            "xxlimited\n",
            "xxlimited_35\n",
            "Cython\n",
            "IPython\n",
            "OpenGL\n",
            "OpenSSL\n",
            "PIL\n",
            "_argon2_cffi_bindings\n",
            "_cffi_backend\n",
            "_cvxcore\n",
            "_distutils_hack\n",
            "_dlib_pybind11\n",
            "_ecos\n",
            "_plotly_future_\n",
            "_plotly_utils\n",
            "_pytest\n",
            "_rinterface_cffi_abi\n",
            "_rinterface_cffi_api\n",
            "_scs_direct\n",
            "_scs_indirect\n",
            "_soundfile\n",
            "_soundfile_data\n",
            "_yaml\n",
            "absl\n",
            "adbc_driver_duckdb\n",
            "aiohttp\n",
            "aiosignal\n",
            "alabaster\n",
            "albumentations\n",
            "altair\n",
            "anyio\n",
            "apiclient\n",
            "appdirs\n",
            "apt\n",
            "apt_inst\n",
            "apt_pkg\n",
            "aptsources\n",
            "argon2\n",
            "array_record\n",
            "arviz\n",
            "astropy\n",
            "astunparse\n",
            "async_timeout\n",
            "attr\n",
            "attrs\n",
            "audioread\n",
            "autograd\n",
            "babel\n",
            "backcall\n",
            "bidict\n",
            "bigframes\n",
            "bin\n",
            "bleach\n",
            "blis\n",
            "blosc2\n",
            "bokeh\n",
            "box\n",
            "bqplot\n",
            "branca\n",
            "bs4\n",
            "build\n",
            "cachecontrol\n",
            "cachetools\n",
            "catalogue\n",
            "certifi\n",
            "cffi\n",
            "chardet\n",
            "charset_normalizer\n",
            "chex\n",
            "clang\n",
            "click\n",
            "click_plugins\n",
            "cligj\n",
            "cloudpickle\n",
            "cmake\n",
            "cmdstanpy\n",
            "colab_kernel_launcher\n",
            "colorcet\n",
            "colorlover\n",
            "colour\n",
            "community\n",
            "confection\n",
            "cons\n",
            "contextlib2\n",
            "contourpy\n",
            "cpuinfo\n",
            "cryptography\n",
            "cufflinks\n",
            "cupy\n",
            "cupy_backends\n",
            "cupyx\n",
            "cv2\n",
            "cvxopt\n",
            "cvxpy\n",
            "cycler\n",
            "cymem\n",
            "cython\n",
            "dask\n",
            "datascience\n",
            "dateutil\n",
            "db_dtypes\n",
            "debugpy\n",
            "decorator\n",
            "defusedxml\n",
            "diskcache\n",
            "distributed\n",
            "dlib\n",
            "docutils\n",
            "dopamine\n",
            "dot_parser\n",
            "duckdb\n",
            "easydict\n",
            "ecos\n",
            "editdistance\n",
            "ee\n",
            "eerepr\n",
            "en_core_web_sm\n",
            "entrypoints\n",
            "erfa\n",
            "et_xmlfile\n",
            "etils\n",
            "etuples\n",
            "exceptiongroup\n",
            "fastai\n",
            "fastcore\n",
            "fastdownload\n",
            "fastjsonschema\n",
            "fastprogress\n",
            "fastrlock\n",
            "filelock\n",
            "fiona\n",
            "firebase_admin\n",
            "flask\n",
            "flatbuffers\n",
            "flax\n",
            "folium\n",
            "fontTools\n",
            "frozendict\n",
            "frozenlist\n",
            "fsspec\n",
            "functorch\n",
            "future\n",
            "gast\n",
            "gcsfs\n",
            "gdown\n",
            "geemap\n",
            "gensim\n",
            "geocoder\n",
            "geographiclib\n",
            "geopandas\n",
            "geopy\n",
            "gin\n",
            "glob2\n",
            "google_auth_httplib2\n",
            "google_auth_oauthlib\n",
            "google_crc32c\n",
            "google_drive_downloader\n",
            "googleapiclient\n",
            "googlesearch\n",
            "graphviz\n",
            "greenlet\n",
            "grpc\n",
            "grpc_status\n",
            "gspread\n",
            "gspread_dataframe\n",
            "gym\n",
            "gym_notices\n",
            "h5netcdf\n",
            "h5py\n",
            "holidays\n",
            "holoviews\n",
            "html5lib\n",
            "httpimport\n",
            "httplib2\n",
            "huggingface_hub\n",
            "humanize\n",
            "hyperopt\n",
            "ibis\n",
            "idna\n",
            "imageio\n",
            "imageio_ffmpeg\n",
            "imagesize\n",
            "imblearn\n",
            "imgaug\n",
            "importlib_metadata\n",
            "importlib_resources\n",
            "imutils\n",
            "inflect\n",
            "iniconfig\n",
            "install\n",
            "ipyevents\n",
            "ipyfilechooser\n",
            "ipykernel\n",
            "ipykernel_launcher\n",
            "ipyleaflet\n",
            "ipython_genutils\n",
            "ipytree\n",
            "ipywidgets\n",
            "isympy\n",
            "itsdangerous\n",
            "jax\n",
            "jaxlib\n",
            "jieba\n",
            "jinja2\n",
            "joblib\n",
            "jsonpickle\n",
            "jsonschema\n",
            "jsonschema_specifications\n",
            "jupyter\n",
            "jupyter_client\n",
            "jupyter_console\n",
            "jupyter_core\n",
            "jupyter_server\n",
            "jupyterlab_plotly\n",
            "jupyterlab_pygments\n",
            "jupyterlab_widgets\n",
            "kaggle\n",
            "kagglehub\n",
            "kanren\n",
            "keras\n",
            "kiwisolver\n",
            "langcodes\n",
            "lazy_loader\n",
            "libfuturize\n",
            "libpasteurize\n",
            "librosa\n",
            "lida\n",
            "lightgbm\n",
            "linkify_it\n",
            "llmx\n",
            "llvmlite\n",
            "locket\n",
            "lxml\n",
            "malloy\n",
            "markdown\n",
            "markdown_it\n",
            "markupsafe\n",
            "matplotlib\n",
            "matplotlib_inline\n",
            "matplotlib_venn\n",
            "mdit_py_plugins\n",
            "mdurl\n",
            "missingno\n",
            "mistune\n",
            "mizani\n",
            "ml_dtypes\n",
            "mlxtend\n",
            "more_itertools\n",
            "moviepy\n",
            "mpmath\n",
            "msgpack\n",
            "multidict\n",
            "multipledispatch\n",
            "multitasking\n",
            "murmurhash\n",
            "music21\n",
            "natsort\n",
            "nbclassic\n",
            "nbclient\n",
            "nbconvert\n",
            "nbformat\n",
            "nest_asyncio\n",
            "networkx\n",
            "nibabel\n",
            "nisext\n",
            "nltk\n",
            "notebook\n",
            "notebook_shim\n",
            "numba\n",
            "numbergen\n",
            "numexpr\n",
            "numpy\n",
            "nvfuser\n",
            "oauth2client\n",
            "oauthlib\n",
            "openpyxl\n",
            "opt_einsum\n",
            "optax\n",
            "osgeo\n",
            "osgeo_utils\n",
            "osqp\n",
            "osqppurepy\n",
            "packaging\n",
            "pandas\n",
            "pandas_datareader\n",
            "pandas_gbq\n",
            "pandocfilters\n",
            "panel\n",
            "param\n",
            "parso\n",
            "parsy\n",
            "partd\n",
            "past\n",
            "pasta\n",
            "pathlib_abc\n",
            "pathy\n",
            "patsy\n",
            "peewee\n",
            "pexpect\n",
            "pickleshare\n",
            "pins\n",
            "pip\n",
            "piptools\n",
            "pkg_resources\n",
            "platformdirs\n",
            "playhouse\n",
            "plotly\n",
            "plotnine\n",
            "pluggy\n",
            "polars\n",
            "pooch\n",
            "portpicker\n",
            "prefetch_generator\n",
            "preshed\n",
            "prettytable\n",
            "proglog\n",
            "progressbar\n",
            "prometheus_client\n",
            "promise\n",
            "prompt_toolkit\n",
            "prophet\n",
            "proto\n",
            "psutil\n",
            "psycopg2\n",
            "ptyprocess\n",
            "public\n",
            "pwiz\n",
            "py\n",
            "py4j\n",
            "pyarrow\n",
            "pyarrow_hotfix\n",
            "pyasn1\n",
            "pyasn1_modules\n",
            "pycocotools\n",
            "pycparser\n",
            "pyct\n",
            "pydantic\n",
            "pydata_google_auth\n",
            "pydot\n",
            "pydot_ng\n",
            "pydotplus\n",
            "pydrive\n",
            "pydrive2\n",
            "pygame\n",
            "pygments\n",
            "pylab\n",
            "pymc\n",
            "pymystem3\n",
            "pyparsing\n",
            "pyperclip\n",
            "pyproj\n",
            "pyproject_hooks\n",
            "pytensor\n",
            "pytest\n",
            "python_utils\n",
            "pytz\n",
            "pyviz_comms\n",
            "pywt\n",
            "pyximport\n",
            "qdldl\n",
            "qudida\n",
            "ratelim\n",
            "referencing\n",
            "regex\n",
            "requests\n",
            "requests_oauthlib\n",
            "requirements\n",
            "rich\n",
            "rpds\n",
            "rpy2\n",
            "rsa\n",
            "safetensors\n",
            "scipy\n",
            "scooby\n",
            "scs\n",
            "seaborn\n",
            "send2trash\n",
            "sentencepiece\n",
            "setuptools\n",
            "shapefile\n",
            "shapely\n",
            "six\n",
            "skimage\n",
            "sklearn\n",
            "sklearn_pandas\n",
            "slugify\n",
            "smart_open\n",
            "sniffio\n",
            "snowballstemmer\n",
            "socks\n",
            "sockshandler\n",
            "sortedcontainers\n",
            "soundfile\n",
            "soupsieve\n",
            "soxr\n",
            "spacy\n",
            "spacy_legacy\n",
            "spacy_loggers\n",
            "sphinx\n",
            "sql\n",
            "sqlalchemy\n",
            "sqlglot\n",
            "sqlparse\n",
            "srsly\n",
            "stanio\n",
            "statsmodels\n",
            "sympy\n",
            "tables\n",
            "tabulate\n",
            "tblib\n",
            "tenacity\n",
            "tensorboard\n",
            "tensorboard_data_server\n",
            "tensorflow\n",
            "tensorflow_datasets\n",
            "tensorflow_estimator\n",
            "tensorflow_gcs_config\n",
            "tensorflow_hub\n",
            "tensorflow_io_gcs_filesystem\n",
            "tensorflow_metadata\n",
            "tensorflow_probability\n",
            "tensorstore\n",
            "termcolor\n",
            "terminado\n",
            "text_unidecode\n",
            "textblob\n",
            "tf_slim\n",
            "thinc\n",
            "third_party\n",
            "threadpoolctl\n",
            "tifffile\n",
            "tinycss2\n",
            "tlz\n",
            "tokenizers\n",
            "toml\n",
            "tomli\n",
            "toolz\n",
            "torch\n",
            "torchaudio\n",
            "torchdata\n",
            "torchgen\n",
            "torchsummary\n",
            "torchtext\n",
            "torchvision\n",
            "tornado\n",
            "tqdm\n",
            "traitlets\n",
            "traittypes\n",
            "transformers\n",
            "tree\n",
            "triton\n",
            "tweepy\n",
            "typer\n",
            "typing_extensions\n",
            "tzlocal\n",
            "uc_micro\n",
            "unification\n",
            "uritemplate\n",
            "urllib3\n",
            "vega_datasets\n",
            "vertex_ray\n",
            "vertexai\n",
            "wasabi\n",
            "wcwidth\n",
            "webcolors\n",
            "webencodings\n",
            "websocket\n",
            "werkzeug\n",
            "wheel\n",
            "widgetsnbextension\n",
            "wordcloud\n",
            "wrapt\n",
            "xarray\n",
            "xarray_einstats\n",
            "xgboost\n",
            "xlrd\n",
            "xxhash\n",
            "xyzservices\n",
            "yaml\n",
            "yarl\n",
            "yellowbrick\n",
            "yfinance\n",
            "zict\n",
            "zipp\n",
            "zmq\n",
            "_dbus_bindings\n",
            "_dbus_glib_bindings\n",
            "blinker\n",
            "boost\n",
            "dbus\n",
            "distro\n",
            "gi\n",
            "jeepney\n",
            "jwt\n",
            "keyring\n",
            "launchpadlib\n",
            "lsb_release\n",
            "pygtkcompat\n",
            "secretstorage\n",
            "softwareproperties\n",
            "wadllib\n",
            "autoreload\n",
            "cythonmagic\n",
            "rmagic\n",
            "storemagic\n",
            "sympyprinting\n",
            "tests\n"
          ]
        }
      ]
    },
    {
      "cell_type": "markdown",
      "source": [
        "Write a Python program to display some information about the OS where the\n",
        "script is running."
      ],
      "metadata": {
        "id": "S7sqZksflTPt"
      }
    },
    {
      "cell_type": "code",
      "source": [
        "import platform\n",
        "\n",
        "def display_os_information():\n",
        "    os_name = platform.system()\n",
        "    os_version = platform.version()\n",
        "    os_architecture = platform.architecture()\n",
        "    machine_type = platform.machine()\n",
        "    print(\"Operating System Information:\")\n",
        "    print(f\"OS Name: {os_name}\")\n",
        "    print(f\"OS Version: {os_version}\")\n",
        "    print(f\"Architecture: {os_architecture[0]} {os_architecture[1]}\")\n",
        "    print(f\"Machine Type: {machine_type}\")\n",
        "\n",
        "display_os_information()\n"
      ],
      "metadata": {
        "colab": {
          "base_uri": "https://localhost:8080/"
        },
        "id": "Op1BVSQ2lNXa",
        "outputId": "fb9dd259-557e-445c-d7dd-f1e96c59a77a"
      },
      "execution_count": null,
      "outputs": [
        {
          "output_type": "stream",
          "name": "stdout",
          "text": [
            "Operating System Information:\n",
            "OS Name: Linux\n",
            "OS Version: #1 SMP PREEMPT_DYNAMIC Sat Nov 18 15:31:17 UTC 2023\n",
            "Architecture: 64bit ELF\n",
            "Machine Type: x86_64\n"
          ]
        }
      ]
    }
  ]
}